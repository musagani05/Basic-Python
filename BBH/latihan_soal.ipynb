{
 "metadata": {
  "language_info": {
   "codemirror_mode": {
    "name": "ipython",
    "version": 3
   },
   "file_extension": ".py",
   "mimetype": "text/x-python",
   "name": "python",
   "nbconvert_exporter": "python",
   "pygments_lexer": "ipython3",
   "version": "3.9.1"
  },
  "orig_nbformat": 4,
  "kernelspec": {
   "name": "python3",
   "display_name": "Python 3.9.1 64-bit"
  },
  "interpreter": {
   "hash": "a6d77903be5c2478d4315d873c684ef0c5f07a1d142e973ab9fd09640065100c"
  }
 },
 "nbformat": 4,
 "nbformat_minor": 2,
 "cells": [
  {
   "cell_type": "code",
   "execution_count": null,
   "metadata": {},
   "outputs": [],
   "source": [
    "# reverse string, pake input, serta output dalam 1 baris\n",
    "# (lambda x : x[::-1])(8)\n",
    "\n",
    "#(lambda x : x[::-1])(input()) # yeeeee\n",
    "#(lambda x : (x + 3) * 5 / 2)(3)\n",
    "\n",
    "from functools import reduce\n",
    "data = [1,2,3]\n",
    "list(lambda x : 2, data)"
   ]
  },
  {
   "cell_type": "code",
   "execution_count": null,
   "metadata": {},
   "outputs": [],
   "source": [
    "data = [1, 2,3]\n",
    "list(filter(lambda x : x, data))"
   ]
  },
  {
   "source": [
    "# Percabangan dan Perulangan"
   ],
   "cell_type": "markdown",
   "metadata": {}
  },
  {
   "source": [
    "Cindy akan pergi ke acara pesta ulang tahun sahabatnya. Pada acara ulang tahun\n",
    "tersebut terdapat aturan drescode bagi pada tamu undangan. Jika hari cerah maka para\n",
    "tamu undangan akan diminta mengenakan Kaus warna merah, Jika hari mendung maka\n",
    "para tamu undangan diminta mengenakan Hem warna Biru dan jika hari hujan maka\n",
    "para tamu undangan diminta mengenakan sweater warna pink.\n",
    "Buatlah sebuah program untuk membantu menyelesaikan persoalan diatas dengan\n",
    "menggunakan if-elif-else dengan input bertipe string dengan nilai cerah, mendung dan\n",
    "hujan."
   ],
   "cell_type": "markdown",
   "metadata": {}
  },
  {
   "cell_type": "code",
   "execution_count": null,
   "metadata": {},
   "outputs": [],
   "source": [
    "# dictionary\n",
    "kondisi = {'cerah' : 'Kaus warna merah', 'mendung' : 'Hem warna biru', 'hujan' : 'sweeter warna pink'}\n",
    "masukan = input()\n",
    "print(kondisi[masukan])"
   ]
  },
  {
   "source": [
    "Pak Badrun meminta Anda untuk membuat sebuah program looping dengan ketentuan\n",
    "sebagai berikut. Program akan menerima masukan nilai input bilangan bulat positif\n",
    "dengan nama variable bilangan (input nilai bilangan < 100 ). Program akan mencetak\n",
    "seluruh bilangan genap yang bernilai < bilangan. Jika yang dimasukkan adalah bilangan\n",
    "negative maka akan memberikan output bilangan negative."
   ],
   "cell_type": "markdown",
   "metadata": {}
  },
  {
   "cell_type": "code",
   "execution_count": null,
   "metadata": {},
   "outputs": [],
   "source": [
    "masukan = int(input())\n",
    "if masukan < 100:\n",
    "    for i in range(1, masukan):\n",
    "        print(i if i % 2 == 0 else \"\")\n"
   ]
  },
  {
   "source": [
    "Pak Bobi memiliki n buah kandang kucing dengan n < 10. Pak Bobi memberikan nomor\n",
    "urut pada tiap kandang sesuai dengan urutan nomor dari 1 s/d n dan menempatkan\n",
    "kucing sebanyak nomor urut tiap kandangnya.\n",
    "Buatlah sebuah program menggunakan looping untuk mencari jumlah total dari seluruh\n",
    "kucing yang dimiliki oleh pak Bobi."
   ],
   "cell_type": "markdown",
   "metadata": {}
  },
  {
   "cell_type": "code",
   "execution_count": null,
   "metadata": {},
   "outputs": [],
   "source": [
    "masukan = int(input())\n",
    "jumlah = 0\n",
    "if masukan <= 10:\n",
    "    for i in range(1, masukan+1):\n",
    "        jumlah += i\n",
    "    print(jumlah)"
   ]
  },
  {
   "source": [
    "Pak Dadang memiliki lima orang anak bernama Andi, Boni, Clara, Disti dan Emil. Pak\n",
    "Dadang memiliki sejumlah N (N bilangan bulat positif < 100) buah salak yang akan\n",
    "dibagikan kepada kelima anaknya secara merata dan jika ada sisa maka akan diberikan\n",
    "kepada istrinya.\n",
    "Buatkanlah sebuah program untuk membantu pak Dadang menghitungkan buah salak\n",
    "yang akan dibagikan kepada anak dan istrinya dengan ketentuan seperti cerita diatas.\n",
    "Buatlah sebuah exception untuk memberikan jawaban jika input nilai yang diberikan < 5\n",
    "maka akan memberikan jawaban ‘ Buah salak kurang’."
   ],
   "cell_type": "markdown",
   "metadata": {}
  },
  {
   "cell_type": "code",
   "execution_count": null,
   "metadata": {},
   "outputs": [],
   "source": [
    "masukan = int(input())\n",
    "jumlah = 0\n",
    "if masukan < 100:\n",
    "    print((masukan // 5) if masukan > 4 else \"Buah salak kurang\")"
   ]
  },
  {
   "source": [
    "# Lambda\n",
    "\n",
    "**Sintaks** -> ```lambda argument1, argument2, ... : expression```"
   ],
   "cell_type": "markdown",
   "metadata": {}
  },
  {
   "cell_type": "code",
   "execution_count": null,
   "metadata": {},
   "outputs": [],
   "source": [
    "nasim = lambda dia, mereka : print(\"boleh\" if dia + mereka <= 4 else \"maruk\")\n",
    "nasim(1, -3)"
   ]
  },
  {
   "cell_type": "code",
   "execution_count": null,
   "metadata": {},
   "outputs": [],
   "source": [
    "(lambda x, y : x // y)(4, 2) # menghasilkan output?"
   ]
  },
  {
   "cell_type": "code",
   "execution_count": null,
   "metadata": {},
   "outputs": [],
   "source": [
    "(lambda x : print(str(x[::-1])))(input())"
   ]
  },
  {
   "source": [
    "Buatlah 2 fungsi lambda yang menghasilkan keluaran **n, m** dimana **n, m** adalah hasil dari `x pangkat y` dan `x akar y`!"
   ],
   "cell_type": "markdown",
   "metadata": {}
  },
  {
   "cell_type": "code",
   "execution_count": null,
   "metadata": {},
   "outputs": [],
   "source": [
    "(lambda x, y : x ** y)(9, 2)\n",
    "(lambda x, y : x ** (1/y))(0.25, 2)"
   ]
  },
  {
   "source": [
    "# Rekursi\n"
   ],
   "cell_type": "markdown",
   "metadata": {}
  },
  {
   "cell_type": "code",
   "execution_count": null,
   "metadata": {},
   "outputs": [],
   "source": [
    "def a(x, y):\n",
    "    if x <= 1:\n",
    "        return 0\n",
    "    else:\n",
    "        return x//y + a(x-y, y+1)"
   ]
  },
  {
   "source": [
    "a(20, 5)\n"
   ],
   "cell_type": "code",
   "metadata": {},
   "execution_count": null,
   "outputs": []
  },
  {
   "cell_type": "code",
   "execution_count": null,
   "metadata": {},
   "outputs": [],
   "source": [
    "def batu(x, y):\n",
    "    if x == 0 or y == 0:\n",
    "        return 1\n",
    "    else:\n",
    "        return batu(x - 1, y) + batu(x, y - 1)"
   ]
  },
  {
   "cell_type": "code",
   "execution_count": null,
   "metadata": {},
   "outputs": [],
   "source": [
    "batu(2, 3)"
   ]
  },
  {
   "cell_type": "code",
   "execution_count": null,
   "metadata": {},
   "outputs": [],
   "source": [
    "def gamma(x):\n",
    "    y = len(str(x))\n",
    "    if x == 0:\n",
    "        return 0\n",
    "    else:\n",
    "        return (x%10 * 10**(y-1)) + gamma(x//10)"
   ]
  },
  {
   "source": [
    "gamma(7539184)"
   ],
   "cell_type": "code",
   "metadata": {},
   "execution_count": null,
   "outputs": []
  },
  {
   "cell_type": "code",
   "execution_count": null,
   "metadata": {},
   "outputs": [],
   "source": [
    "def kertas(a, b):\n",
    "    if a == 0 or b == 0:\n",
    "        return 0\n",
    "    if b == 1:\n",
    "        return a\n",
    "    if a == 1:\n",
    "        return b\n",
    "    return a + kertas(a, b - 1)"
   ]
  },
  {
   "cell_type": "code",
   "execution_count": null,
   "metadata": {},
   "outputs": [],
   "source": [
    "Berapakah hasil dari kertas(4, 7)?"
   ]
  }
 ]
}