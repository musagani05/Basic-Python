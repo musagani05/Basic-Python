{
 "metadata": {
  "language_info": {
   "codemirror_mode": {
    "name": "ipython",
    "version": 3
   },
   "file_extension": ".py",
   "mimetype": "text/x-python",
   "name": "python",
   "nbconvert_exporter": "python",
   "pygments_lexer": "ipython3",
   "version": "3.9.5"
  },
  "orig_nbformat": 4,
  "kernelspec": {
   "name": "python3",
   "display_name": "Python 3.9.5 64-bit"
  },
  "interpreter": {
   "hash": "a6d77903be5c2478d4315d873c684ef0c5f07a1d142e973ab9fd09640065100c"
  }
 },
 "nbformat": 4,
 "nbformat_minor": 2,
 "cells": [
  {
   "cell_type": "code",
   "execution_count": null,
   "metadata": {},
   "outputs": [],
   "source": [
    "list_1 = [\"A\", \"B\", \"C\"]\n",
    "list_2 = list_1\n",
    "list_3 = list_2\n",
    "\n",
    "del list_1[0]\n",
    "del list_2[0]\n",
    "\n",
    "print(list_3)"
   ]
  },
  {
   "cell_type": "code",
   "execution_count": null,
   "metadata": {},
   "outputs": [],
   "source": [
    "list_1 = [\"A\", \"B\", \"C\"]\n",
    "list_2 = list_1\n",
    "list_3 = list_2\n",
    "\n",
    "del list_1[0]\n",
    "del list_2\n",
    "\n",
    "print(list_3)"
   ]
  },
  {
   "cell_type": "code",
   "execution_count": null,
   "metadata": {},
   "outputs": [],
   "source": [
    "list_1 = [\"A\", \"B\", \"C\"]\n",
    "list_2 = list_1\n",
    "list_3 = list_2\n",
    "\n",
    "del list_1[0]\n",
    "del list_2[:]\n",
    "\n",
    "print(list_3)"
   ]
  },
  {
   "cell_type": "code",
   "execution_count": null,
   "metadata": {},
   "outputs": [],
   "source": [
    "list_1 = [\"A\", \"B\", \"C\"]\n",
    "list_2 = list_1[:]\n",
    "list_3 = list_2[:]\n",
    "\n",
    "del list_1[0]\n",
    "del list_2[0]\n",
    "\n",
    "print(list_3)"
   ]
  },
  {
   "cell_type": "code",
   "execution_count": null,
   "metadata": {},
   "outputs": [],
   "source": [
    "my_list = [1, 2, \"in\", True, \"ABC\"]\n",
    "\n",
    "print(1 ??? my_list)  # outputs True\n",
    "print(\"A\" ??? my_list)  # outputs True\n",
    "print(3 ??? my_list)  # outputs True\n",
    "print(False ??? my_list)  # outputs False"
   ]
  }
 ]
}