{
 "cells": [
  {
   "cell_type": "markdown",
   "source": [
    "Now it's time to determine the monthly average noon temperature.\r\n",
    "Add up all 31 readings recorded at noon and divide the sum by 31.\r\n",
    "You can assume that the midnight temperature is stored first.\r\n",
    "Here's the relevant code:"
   ],
   "metadata": {}
  },
  {
   "cell_type": "code",
   "execution_count": null,
   "source": [
    "temps = [[0.0 for h in range(24)] for d in range(31)] #h(hour), d(day)\r\n",
    "\r\n",
    "total = 0.0\r\n",
    "for day in temps:\r\n",
    "    total += day[11]\r\n",
    "    \r\n",
    "\r\n",
    "average = total / 31\r\n",
    "\r\n",
    "print(\"Average temperature at noon : \", average)"
   ],
   "outputs": [],
   "metadata": {}
  },
  {
   "cell_type": "markdown",
   "source": [
    "Now find the highest temperature during the whole month - see the code:"
   ],
   "metadata": {}
  },
  {
   "cell_type": "code",
   "execution_count": null,
   "source": [
    "temps = [[0.0 for h in range(24)] for d in range(31)]\r\n",
    "\r\n",
    "highest = -100.0\r\n",
    "\r\n",
    "for day in temps:\r\n",
    "    for temp in day:\r\n",
    "        if temp > highest:\r\n",
    "            highest = temp\r\n",
    "\r\n",
    "print(\"The highest temperature was : \", highest)"
   ],
   "outputs": [],
   "metadata": {}
  },
  {
   "cell_type": "markdown",
   "source": [
    "Now count the days when the temperature at noon was at least 20 ℃:"
   ],
   "metadata": {}
  },
  {
   "cell_type": "code",
   "execution_count": 11,
   "source": [
    "temps = [[0.0 for h in range(24)] for d in range(31)]\r\n",
    "\r\n",
    "hot_days = 0\r\n",
    "\r\n",
    "for day in temps:\r\n",
    "    if day[11] > 20.0:\r\n",
    "        hot_days += 1\r\n",
    "\r\n",
    "print(hot_days, \"days were hot.\")"
   ],
   "outputs": [
    {
     "output_type": "stream",
     "name": "stdout",
     "text": [
      "0 days were hot.\n"
     ]
    }
   ],
   "metadata": {}
  }
 ],
 "metadata": {
  "orig_nbformat": 4,
  "language_info": {
   "name": "python",
   "version": "3.9.5",
   "mimetype": "text/x-python",
   "codemirror_mode": {
    "name": "ipython",
    "version": 3
   },
   "pygments_lexer": "ipython3",
   "nbconvert_exporter": "python",
   "file_extension": ".py"
  },
  "kernelspec": {
   "name": "python3",
   "display_name": "Python 3.9.5 64-bit"
  },
  "interpreter": {
   "hash": "a6d77903be5c2478d4315d873c684ef0c5f07a1d142e973ab9fd09640065100c"
  }
 },
 "nbformat": 4,
 "nbformat_minor": 2
}