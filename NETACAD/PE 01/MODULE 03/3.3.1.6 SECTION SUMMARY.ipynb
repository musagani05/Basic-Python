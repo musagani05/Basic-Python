{
 "metadata": {
  "language_info": {
   "codemirror_mode": {
    "name": "ipython",
    "version": 3
   },
   "file_extension": ".py",
   "mimetype": "text/x-python",
   "name": "python",
   "nbconvert_exporter": "python",
   "pygments_lexer": "ipython3",
   "version": "3.9.5"
  },
  "orig_nbformat": 4,
  "kernelspec": {
   "name": "python3",
   "display_name": "Python 3.9.5 64-bit"
  },
  "interpreter": {
   "hash": "a6d77903be5c2478d4315d873c684ef0c5f07a1d142e973ab9fd09640065100c"
  }
 },
 "nbformat": 4,
 "nbformat_minor": 2,
 "cells": [
  {
   "cell_type": "code",
   "execution_count": null,
   "metadata": {},
   "outputs": [],
   "source": [
    "x = 1\n",
    "y = 0\n",
    "z = ((x == y) and (x == y)) or not (x == y)\n",
    "print(not(x))"
   ]
  },
  {
   "source": [
    "x = 4\n",
    "y = 1\n",
    "\n",
    "a = x & y\n",
    "b = x | y\n",
    "c = ~x  # tricky!\n",
    "d = x ^ 5\n",
    "e = x >> 2\n",
    "f = x << 2\n",
    "\n",
    "print(a, b, c, d, e, f)"
   ],
   "cell_type": "code",
   "metadata": {},
   "execution_count": null,
   "outputs": []
  },
  {
   "source": [
    "x = 4 = 100\n",
    "y = 1 = 001\n",
    "\n",
    "a = x & y = 100 & 001 = 000 = 0\n",
    "&(and)\n",
    "\n",
    "b = x | y = 100 | 001 = 101 = 5\n",
    "|(or)\n",
    "\n",
    "c = ~x = ~4 = ~100 = 011\n",
    "~1 = 0\n",
    "~0 = 1\n",
    "~(tilde) → complement\n",
    "011 = 3\n",
    "2 complement of 3 = 1 complement + 1 (mengubah dari positif menjadi negatif)\n",
    "011 → 100 + 1 = 101 = -5\n",
    "\n",
    "d = x ^ 5\n",
    "^(xor)\n",
    "4 ^ 5 = 100 ^ 101 = 001 = 1\n",
    "\n",
    "e = x >> 2\n",
    "100 >> 2 = 1 = 1\n",
    "\n",
    "f = x << 2\n",
    "100 << 2 = 10000 = 16\n"
   ],
   "cell_type": "markdown",
   "metadata": {}
  }
 ]
}