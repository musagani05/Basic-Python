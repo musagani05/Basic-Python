{
 "metadata": {
  "language_info": {
   "codemirror_mode": {
    "name": "ipython",
    "version": 3
   },
   "file_extension": ".py",
   "mimetype": "text/x-python",
   "name": "python",
   "nbconvert_exporter": "python",
   "pygments_lexer": "ipython3",
   "version": "3.9.5"
  },
  "orig_nbformat": 4,
  "kernelspec": {
   "name": "python3",
   "display_name": "Python 3.9.5 64-bit"
  },
  "interpreter": {
   "hash": "a6d77903be5c2478d4315d873c684ef0c5f07a1d142e973ab9fd09640065100c"
  }
 },
 "nbformat": 4,
 "nbformat_minor": 2,
 "cells": [
  {
   "cell_type": "code",
   "execution_count": null,
   "metadata": {},
   "outputs": [],
   "source": [
    "numbers = [10, 5, 7, 2, 1]\n",
    "print(\"Original list content:\", numbers)  # Printing original list content.\n",
    "\n",
    "numbers[0] = 111\n",
    "print(\"New list content: \", numbers)  # Current list content."
   ]
  },
  {
   "cell_type": "code",
   "execution_count": null,
   "metadata": {},
   "outputs": [],
   "source": [
    "numbers = [10, 5, 7, 2, 1]\n",
    "print(\"Original list content:\", numbers)  # Printing original list content.\n",
    "\n",
    "numbers[0] = 111\n",
    "print(\"\\nPrevious list content:\", numbers)  # Printing previous list content.\n",
    "\n",
    "numbers[1] = numbers[4]  # Copying value of the fifth element to the second.\n",
    "print(\"New list content:\", numbers)  # Printing current list content."
   ]
  }
 ]
}