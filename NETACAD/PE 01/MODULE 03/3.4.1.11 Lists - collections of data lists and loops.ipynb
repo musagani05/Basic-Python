{
 "metadata": {
  "language_info": {
   "codemirror_mode": {
    "name": "ipython",
    "version": 3
   },
   "file_extension": ".py",
   "mimetype": "text/x-python",
   "name": "python",
   "nbconvert_exporter": "python",
   "pygments_lexer": "ipython3",
   "version": 3
  },
  "orig_nbformat": 4
 },
 "nbformat": 4,
 "nbformat_minor": 2,
 "cells": [
  {
   "cell_type": "code",
   "execution_count": null,
   "metadata": {},
   "outputs": [],
   "source": [
    "Lists in action\n",
    "Let's leave lists aside for a short moment and look at one intriguing issue.\n",
    "\n",
    "Imagine that you need to rearrange the elements of a list, i.e., reverse the order of the elements: the first and the fifth as well as the second and fourth elements will be swapped. The third one will remain untouched.\n",
    "\n",
    "\n",
    "Question: how can you swap the values of two variables?\n",
    "\n",
    "Take a look at the snippet:\n",
    "\n",
    "variable_1 = 1\n",
    "variable_2 = 2\n",
    "\n",
    "variable_2 = variable_1\n",
    "variable_1 = variable_2\n",
    "\n",
    "If you do something like this, you would lose the value previously stored in variable_2. Changing the order of the assignments will not help. You need a third variable that serves as an auxiliary storage."
   ]
  },
  {
   "cell_type": "code",
   "execution_count": null,
   "metadata": {},
   "outputs": [],
   "source": [
    "This is how you can do it:\n",
    "\n",
    "variable_1 = 1\n",
    "variable_2 = 2\n",
    "\n",
    "auxiliary = variable_1\n",
    "variable_1 = variable_2\n",
    "variable_2 = auxiliary\n"
   ]
  },
  {
   "cell_type": "code",
   "execution_count": null,
   "metadata": {},
   "outputs": [],
   "source": [
    "Python offers a more convenient way of doing the swap - take a look:\n",
    "\n",
    "variable_1 = 1\n",
    "variable_2 = 2\n",
    "\n",
    "variable_1, variable_2 = variable_2, variable_1"
   ]
  }
 ]
}