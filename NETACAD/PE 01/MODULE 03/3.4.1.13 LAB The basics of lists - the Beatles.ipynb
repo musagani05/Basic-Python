{
 "metadata": {
  "language_info": {
   "codemirror_mode": {
    "name": "ipython",
    "version": 3
   },
   "file_extension": ".py",
   "mimetype": "text/x-python",
   "name": "python",
   "nbconvert_exporter": "python",
   "pygments_lexer": "ipython3",
   "version": 3
  },
  "orig_nbformat": 4
 },
 "nbformat": 4,
 "nbformat_minor": 2,
 "cells": [
  {
   "cell_type": "code",
   "execution_count": null,
   "metadata": {},
   "outputs": [],
   "source": [
    "Scenario\n",
    "The Beatles were one of the most popular music group of the 1960s, and the best-selling band in history. Some people consider them to be the most influential act of the rock era. Indeed, they were included in Time magazine's compilation of the 20th Century's 100 most influential people.\n",
    "\n",
    "The band underwent many line-up changes, culminating in 1962 with the line-up of John Lennon, Paul McCartney, George Harrison, and Richard Starkey (better known as Ringo Starr).\n",
    "\n",
    "\n",
    "Write a program that reflects these changes and lets you practice with the concept of lists. Your task is to:\n",
    "\n",
    "step 1: create an empty list named beatles;\n",
    "step 2: use the append() method to add the following members of the band to the list: John Lennon, Paul McCartney, and George Harrison;\n",
    "step 3: use the for loop and the append() method to prompt the user to add the following members of the band to the list: Stu Sutcliffe, and Pete Best;\n",
    "step 4: use the del instruction to remove Stu Sutcliffe and Pete Best from the list;\n",
    "step 5: use the insert() method to add Ringo Starr to the beginning of the list.\n",
    "By the way, are you a Beatles fan? (The Beatles is one of Greg's favorite bands. But wait...who's Greg...?)\n",
    "\n"
   ]
  },
  {
   "source": [
    "# step 1:\n",
    "Beatles = []\n",
    "print(\"Step 1:\", Beatles)\n",
    "\n",
    "# step 2:\n",
    "\n",
    "Beatles.append(\"John Lennon\")\n",
    "Beatles.append(\"Paul McCartney\")\n",
    "Beatles.append(\"George Harrison\")\n",
    "print(\"Step 2:\", Beatles)\n",
    "\n",
    "# step 3:\n",
    "for members in range(2):\n",
    "    Beatles.append(input(\"New band member: \"))\n",
    "print(\"Step 3:\", Beatles)\n",
    "\n",
    "# step 4:\n",
    "del Beatles[-1]\n",
    "del Beatles[-1]\n",
    "print(\"Step 4:\", Beatles)\n",
    "\n",
    "# step 5:\n",
    "Beatles.insert(0, \"RingoStarr\")\n",
    "print(\"Step 5:\", Beatles)\n",
    "print(\"The Fab:\",len(Beatles))\n"
   ],
   "cell_type": "code",
   "metadata": {},
   "execution_count": null,
   "outputs": []
  }
 ]
}